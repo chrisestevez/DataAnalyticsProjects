{
 "cells": [
  {
   "cell_type": "markdown",
   "metadata": {
    "collapsed": true
   },
   "source": [
    "# Opiod Prescription Part D Analysis 2013 & 2014"
   ]
  },
  {
   "cell_type": "markdown",
   "metadata": {},
   "source": [
    "# Data 602\n",
    "### Christopher Estevez"
   ]
  },
  {
   "cell_type": "markdown",
   "metadata": {},
   "source": [
    "# Overview\n",
    "### This project is intended to inform and show my python data manipulation skills. The project consists of data from Centers for Medicare and Medicaid Services(CMS)Opioid Prescription Data for years 2013 and 2014. Many articles in the news reference the Opioid epidemic and this dataset does not tell the whole story, but highlights where the increase is coming from. This project highlights how I intend to use Python."
   ]
  },
  {
   "cell_type": "markdown",
   "metadata": {},
   "source": [
    "# Data\n",
    "### The data was obtained from CMS online web portal and certain columns had to be removed to make the project reproducible and store the data in GitHub which has a limit of 25MBs per file. After merging the files, the total rows are 987,425 and 7 columns.\n",
    "\n",
    "### Data sources\n",
    "#### 2013\n",
    "https://data.cms.gov/Medicare-Claims/Medicare-Part-D-Opioid-Prescriber-Summary-File-201/yb2j-f3fp\n",
    "\n",
    "#### 2014\n",
    "https://data.cms.gov/Medicare-Claims/Medicare-Part-D-Opioid-Prescriber-Summary-File-201/e4ka-3ncx\n"
   ]
  },
  {
   "cell_type": "markdown",
   "metadata": {},
   "source": [
    "## Environment\n",
    "### I only used Pandas, Matplotlib and seaborn. I believe the 3 packages allowed me to manipulate data in a manner that is easy and consistent. The Seaborn package is used to add a color pallet to charts."
   ]
  },
  {
   "cell_type": "code",
   "execution_count": 1,
   "metadata": {
    "scrolled": true
   },
   "outputs": [
    {
     "name": "stdout",
     "output_type": "stream",
     "text": [
      "Populating the interactive namespace from numpy and matplotlib\n"
     ]
    },
    {
     "name": "stderr",
     "output_type": "stream",
     "text": [
      "C:\\Python27\\lib\\site-packages\\IPython\\html.py:14: ShimWarning: The `IPython.html` package has been deprecated since IPython 4.0. You should import from `notebook` instead. `IPython.html.widgets` has moved to `ipywidgets`.\n",
      "  \"`IPython.html.widgets` has moved to `ipywidgets`.\", ShimWarning)\n",
      "C:\\Python27\\lib\\site-packages\\IPython\\core\\interactiveshell.py:2881: FutureWarning: \n",
      "mpl_style had been deprecated and will be removed in a future version.\n",
      "Use `matplotlib.pyplot.style.use` instead.\n",
      "\n",
      "  exec(code_obj, self.user_global_ns, self.user_ns)\n"
     ]
    }
   ],
   "source": [
    "import pandas as pd\n",
    "import matplotlib.pyplot as plt\n",
    "import seaborn as sns\n",
    "plt.style.use('ggplot')\n",
    "pd.options.display.mpl_style = 'default'\n",
    "%pylab inline\n",
    "pylab.rcParams['figure.figsize'] = (15, 10)"
   ]
  },
  {
   "cell_type": "markdown",
   "metadata": {},
   "source": [
    "### In the below code, I read the Opioid claim data for 2013 and 2014 stored in GitHub. I add the year to each data set and merge to complete the data frame."
   ]
  },
  {
   "cell_type": "code",
   "execution_count": 2,
   "metadata": {
    "collapsed": true
   },
   "outputs": [],
   "source": [
    "url_1 = 'https://raw.githubusercontent.com/chrisestevez/DataAnalytics/master/Data/MedicareOpioidPrescriber2014Reduced.csv'\n",
    "url_2 = 'https://raw.githubusercontent.com/chrisestevez/DataAnalytics/master/Data/MedicareOpioidPrescriber2013Reduced.csv'\n",
    "data1 = pd.read_csv(url_1, names = ['ZIP', 'State', 'Prov_Specialty','Total_Claims','Opioid_Claims','Pres_Rate'], skiprows=1,converters={'ZIP': lambda x: str(x)})\n",
    "data1['Year'] ='2014'\n",
    "data2 = pd.read_csv(url_2,names = ['ZIP', 'State', 'Prov_Specialty','Total_Claims','Opioid_Claims','Pres_Rate']  ,skiprows=1,converters={'ZIP': lambda x: str(x)})\n",
    "data2['Year'] = '2013'\n",
    "Data = data1.append(data2, ignore_index=True)\n",
    "Data['Opioid_Claims'] = pd.to_numeric(Data['Opioid_Claims'])"
   ]
  },
  {
   "cell_type": "markdown",
   "metadata": {},
   "source": [
    "### Below is the head and tail of the data frame."
   ]
  },
  {
   "cell_type": "code",
   "execution_count": 3,
   "metadata": {
    "scrolled": true
   },
   "outputs": [
    {
     "data": {
      "text/html": [
       "<div>\n",
       "<table border=\"1\" class=\"dataframe\">\n",
       "  <thead>\n",
       "    <tr style=\"text-align: right;\">\n",
       "      <th></th>\n",
       "      <th>ZIP</th>\n",
       "      <th>State</th>\n",
       "      <th>Prov_Specialty</th>\n",
       "      <th>Total_Claims</th>\n",
       "      <th>Opioid_Claims</th>\n",
       "      <th>Pres_Rate</th>\n",
       "      <th>Year</th>\n",
       "    </tr>\n",
       "  </thead>\n",
       "  <tbody>\n",
       "    <tr>\n",
       "      <th>0</th>\n",
       "      <td>48183</td>\n",
       "      <td>MI</td>\n",
       "      <td>Emergency Medicine</td>\n",
       "      <td>124</td>\n",
       "      <td>33</td>\n",
       "      <td>0.2661</td>\n",
       "      <td>2014</td>\n",
       "    </tr>\n",
       "    <tr>\n",
       "      <th>1</th>\n",
       "      <td>96819</td>\n",
       "      <td>HI</td>\n",
       "      <td>Urology</td>\n",
       "      <td>936</td>\n",
       "      <td>32</td>\n",
       "      <td>0.0342</td>\n",
       "      <td>2014</td>\n",
       "    </tr>\n",
       "    <tr>\n",
       "      <th>2</th>\n",
       "      <td>49546</td>\n",
       "      <td>MI</td>\n",
       "      <td>Ophthalmology</td>\n",
       "      <td>590</td>\n",
       "      <td>11</td>\n",
       "      <td>0.0186</td>\n",
       "      <td>2014</td>\n",
       "    </tr>\n",
       "    <tr>\n",
       "      <th>3</th>\n",
       "      <td>95376</td>\n",
       "      <td>CA</td>\n",
       "      <td>Dentist</td>\n",
       "      <td>46</td>\n",
       "      <td>11</td>\n",
       "      <td>0.2391</td>\n",
       "      <td>2014</td>\n",
       "    </tr>\n",
       "    <tr>\n",
       "      <th>4</th>\n",
       "      <td>62220</td>\n",
       "      <td>IL</td>\n",
       "      <td>General Surgery</td>\n",
       "      <td>85</td>\n",
       "      <td>45</td>\n",
       "      <td>0.5294</td>\n",
       "      <td>2014</td>\n",
       "    </tr>\n",
       "    <tr>\n",
       "      <th>5</th>\n",
       "      <td>95116</td>\n",
       "      <td>CA</td>\n",
       "      <td>Physical Medicine and Rehabilitation</td>\n",
       "      <td>472</td>\n",
       "      <td>46</td>\n",
       "      <td>0.0975</td>\n",
       "      <td>2014</td>\n",
       "    </tr>\n",
       "    <tr>\n",
       "      <th>6</th>\n",
       "      <td>55431</td>\n",
       "      <td>MN</td>\n",
       "      <td>Orthopedic Surgery</td>\n",
       "      <td>142</td>\n",
       "      <td>116</td>\n",
       "      <td>0.8169</td>\n",
       "      <td>2014</td>\n",
       "    </tr>\n",
       "    <tr>\n",
       "      <th>7</th>\n",
       "      <td>94599</td>\n",
       "      <td>CA</td>\n",
       "      <td>Family Practice</td>\n",
       "      <td>2321</td>\n",
       "      <td>104</td>\n",
       "      <td>0.0448</td>\n",
       "      <td>2014</td>\n",
       "    </tr>\n",
       "    <tr>\n",
       "      <th>8</th>\n",
       "      <td>62901</td>\n",
       "      <td>IL</td>\n",
       "      <td>Emergency Medicine</td>\n",
       "      <td>199</td>\n",
       "      <td>61</td>\n",
       "      <td>0.3065</td>\n",
       "      <td>2014</td>\n",
       "    </tr>\n",
       "    <tr>\n",
       "      <th>9</th>\n",
       "      <td>53098</td>\n",
       "      <td>WI</td>\n",
       "      <td>Obstetrics/Gynecology</td>\n",
       "      <td>152</td>\n",
       "      <td>12</td>\n",
       "      <td>0.0789</td>\n",
       "      <td>2014</td>\n",
       "    </tr>\n",
       "    <tr>\n",
       "      <th>10</th>\n",
       "      <td>80045</td>\n",
       "      <td>CO</td>\n",
       "      <td>Internal Medicine</td>\n",
       "      <td>394</td>\n",
       "      <td>32</td>\n",
       "      <td>0.0812</td>\n",
       "      <td>2014</td>\n",
       "    </tr>\n",
       "    <tr>\n",
       "      <th>11</th>\n",
       "      <td>87106</td>\n",
       "      <td>NM</td>\n",
       "      <td>Emergency Medicine</td>\n",
       "      <td>163</td>\n",
       "      <td>40</td>\n",
       "      <td>0.2454</td>\n",
       "      <td>2014</td>\n",
       "    </tr>\n",
       "    <tr>\n",
       "      <th>12</th>\n",
       "      <td>60187</td>\n",
       "      <td>IL</td>\n",
       "      <td>Family Practice</td>\n",
       "      <td>1965</td>\n",
       "      <td>24</td>\n",
       "      <td>0.0122</td>\n",
       "      <td>2014</td>\n",
       "    </tr>\n",
       "    <tr>\n",
       "      <th>13</th>\n",
       "      <td>85381</td>\n",
       "      <td>AZ</td>\n",
       "      <td>Dentist</td>\n",
       "      <td>59</td>\n",
       "      <td>26</td>\n",
       "      <td>0.4407</td>\n",
       "      <td>2014</td>\n",
       "    </tr>\n",
       "    <tr>\n",
       "      <th>14</th>\n",
       "      <td>75235</td>\n",
       "      <td>TX</td>\n",
       "      <td>Emergency Medicine</td>\n",
       "      <td>88</td>\n",
       "      <td>20</td>\n",
       "      <td>0.2273</td>\n",
       "      <td>2014</td>\n",
       "    </tr>\n",
       "    <tr>\n",
       "      <th>15</th>\n",
       "      <td>56304</td>\n",
       "      <td>MN</td>\n",
       "      <td>Student in an Organized Health Care Education/...</td>\n",
       "      <td>185</td>\n",
       "      <td>19</td>\n",
       "      <td>0.1027</td>\n",
       "      <td>2014</td>\n",
       "    </tr>\n",
       "    <tr>\n",
       "      <th>16</th>\n",
       "      <td>58103</td>\n",
       "      <td>ND</td>\n",
       "      <td>Nurse Practitioner</td>\n",
       "      <td>2550</td>\n",
       "      <td>123</td>\n",
       "      <td>0.0482</td>\n",
       "      <td>2014</td>\n",
       "    </tr>\n",
       "    <tr>\n",
       "      <th>17</th>\n",
       "      <td>46322</td>\n",
       "      <td>IN</td>\n",
       "      <td>Interventional Pain Management</td>\n",
       "      <td>38</td>\n",
       "      <td>21</td>\n",
       "      <td>0.5526</td>\n",
       "      <td>2014</td>\n",
       "    </tr>\n",
       "    <tr>\n",
       "      <th>18</th>\n",
       "      <td>85022</td>\n",
       "      <td>AZ</td>\n",
       "      <td>Dentist</td>\n",
       "      <td>224</td>\n",
       "      <td>47</td>\n",
       "      <td>0.2098</td>\n",
       "      <td>2014</td>\n",
       "    </tr>\n",
       "    <tr>\n",
       "      <th>19</th>\n",
       "      <td>4105</td>\n",
       "      <td>ME</td>\n",
       "      <td>Family Practice</td>\n",
       "      <td>945</td>\n",
       "      <td>45</td>\n",
       "      <td>0.0476</td>\n",
       "      <td>2014</td>\n",
       "    </tr>\n",
       "    <tr>\n",
       "      <th>20</th>\n",
       "      <td>48197</td>\n",
       "      <td>MI</td>\n",
       "      <td>Orthopedic Surgery</td>\n",
       "      <td>41</td>\n",
       "      <td>23</td>\n",
       "      <td>0.5610</td>\n",
       "      <td>2014</td>\n",
       "    </tr>\n",
       "    <tr>\n",
       "      <th>21</th>\n",
       "      <td>23434</td>\n",
       "      <td>VA</td>\n",
       "      <td>Podiatry</td>\n",
       "      <td>202</td>\n",
       "      <td>16</td>\n",
       "      <td>0.0792</td>\n",
       "      <td>2014</td>\n",
       "    </tr>\n",
       "    <tr>\n",
       "      <th>22</th>\n",
       "      <td>14222</td>\n",
       "      <td>NY</td>\n",
       "      <td>Obstetrics/Gynecology</td>\n",
       "      <td>43</td>\n",
       "      <td>12</td>\n",
       "      <td>0.2791</td>\n",
       "      <td>2014</td>\n",
       "    </tr>\n",
       "    <tr>\n",
       "      <th>23</th>\n",
       "      <td>75204</td>\n",
       "      <td>TX</td>\n",
       "      <td>Emergency Medicine</td>\n",
       "      <td>254</td>\n",
       "      <td>45</td>\n",
       "      <td>0.1772</td>\n",
       "      <td>2014</td>\n",
       "    </tr>\n",
       "    <tr>\n",
       "      <th>24</th>\n",
       "      <td>30004</td>\n",
       "      <td>GA</td>\n",
       "      <td>Nephrology</td>\n",
       "      <td>3182</td>\n",
       "      <td>21</td>\n",
       "      <td>0.0066</td>\n",
       "      <td>2014</td>\n",
       "    </tr>\n",
       "    <tr>\n",
       "      <th>25</th>\n",
       "      <td>85364</td>\n",
       "      <td>AZ</td>\n",
       "      <td>Nurse Practitioner</td>\n",
       "      <td>194</td>\n",
       "      <td>24</td>\n",
       "      <td>0.1237</td>\n",
       "      <td>2014</td>\n",
       "    </tr>\n",
       "    <tr>\n",
       "      <th>26</th>\n",
       "      <td>42431</td>\n",
       "      <td>KY</td>\n",
       "      <td>Family Practice</td>\n",
       "      <td>4942</td>\n",
       "      <td>55</td>\n",
       "      <td>0.0111</td>\n",
       "      <td>2014</td>\n",
       "    </tr>\n",
       "    <tr>\n",
       "      <th>27</th>\n",
       "      <td>57104</td>\n",
       "      <td>SD</td>\n",
       "      <td>Orthopedic Surgery</td>\n",
       "      <td>416</td>\n",
       "      <td>129</td>\n",
       "      <td>0.3101</td>\n",
       "      <td>2014</td>\n",
       "    </tr>\n",
       "    <tr>\n",
       "      <th>28</th>\n",
       "      <td>64111</td>\n",
       "      <td>MO</td>\n",
       "      <td>Internal Medicine</td>\n",
       "      <td>3531</td>\n",
       "      <td>205</td>\n",
       "      <td>0.0581</td>\n",
       "      <td>2014</td>\n",
       "    </tr>\n",
       "    <tr>\n",
       "      <th>29</th>\n",
       "      <td>53916</td>\n",
       "      <td>WI</td>\n",
       "      <td>Family Practice</td>\n",
       "      <td>1242</td>\n",
       "      <td>81</td>\n",
       "      <td>0.0652</td>\n",
       "      <td>2014</td>\n",
       "    </tr>\n",
       "    <tr>\n",
       "      <th>...</th>\n",
       "      <td>...</td>\n",
       "      <td>...</td>\n",
       "      <td>...</td>\n",
       "      <td>...</td>\n",
       "      <td>...</td>\n",
       "      <td>...</td>\n",
       "      <td>...</td>\n",
       "    </tr>\n",
       "    <tr>\n",
       "      <th>987425</th>\n",
       "      <td>63119</td>\n",
       "      <td>MO</td>\n",
       "      <td>Internal Medicine</td>\n",
       "      <td>8395</td>\n",
       "      <td>296</td>\n",
       "      <td>0.0353</td>\n",
       "      <td>2013</td>\n",
       "    </tr>\n",
       "    <tr>\n",
       "      <th>987426</th>\n",
       "      <td>23502</td>\n",
       "      <td>VA</td>\n",
       "      <td>Nephrology</td>\n",
       "      <td>3481</td>\n",
       "      <td>27</td>\n",
       "      <td>0.0078</td>\n",
       "      <td>2013</td>\n",
       "    </tr>\n",
       "    <tr>\n",
       "      <th>987427</th>\n",
       "      <td>55454</td>\n",
       "      <td>MN</td>\n",
       "      <td>Internal Medicine</td>\n",
       "      <td>840</td>\n",
       "      <td>17</td>\n",
       "      <td>0.0202</td>\n",
       "      <td>2013</td>\n",
       "    </tr>\n",
       "    <tr>\n",
       "      <th>987428</th>\n",
       "      <td>23462</td>\n",
       "      <td>VA</td>\n",
       "      <td>Emergency Medicine</td>\n",
       "      <td>57</td>\n",
       "      <td>17</td>\n",
       "      <td>0.2982</td>\n",
       "      <td>2013</td>\n",
       "    </tr>\n",
       "    <tr>\n",
       "      <th>987429</th>\n",
       "      <td>65202</td>\n",
       "      <td>MO</td>\n",
       "      <td>Family Practice</td>\n",
       "      <td>196</td>\n",
       "      <td>38</td>\n",
       "      <td>0.1939</td>\n",
       "      <td>2013</td>\n",
       "    </tr>\n",
       "    <tr>\n",
       "      <th>987430</th>\n",
       "      <td>37167</td>\n",
       "      <td>TN</td>\n",
       "      <td>Neurology</td>\n",
       "      <td>196</td>\n",
       "      <td>17</td>\n",
       "      <td>0.0867</td>\n",
       "      <td>2013</td>\n",
       "    </tr>\n",
       "    <tr>\n",
       "      <th>987431</th>\n",
       "      <td>60540</td>\n",
       "      <td>IL</td>\n",
       "      <td>Podiatry</td>\n",
       "      <td>215</td>\n",
       "      <td>30</td>\n",
       "      <td>0.1395</td>\n",
       "      <td>2013</td>\n",
       "    </tr>\n",
       "    <tr>\n",
       "      <th>987432</th>\n",
       "      <td>60126</td>\n",
       "      <td>IL</td>\n",
       "      <td>Anesthesiology</td>\n",
       "      <td>248</td>\n",
       "      <td>166</td>\n",
       "      <td>0.6694</td>\n",
       "      <td>2013</td>\n",
       "    </tr>\n",
       "    <tr>\n",
       "      <th>987433</th>\n",
       "      <td>77090</td>\n",
       "      <td>TX</td>\n",
       "      <td>Urology</td>\n",
       "      <td>3165</td>\n",
       "      <td>61</td>\n",
       "      <td>0.0193</td>\n",
       "      <td>2013</td>\n",
       "    </tr>\n",
       "    <tr>\n",
       "      <th>987434</th>\n",
       "      <td>10021</td>\n",
       "      <td>NY</td>\n",
       "      <td>Anesthesiology</td>\n",
       "      <td>1060</td>\n",
       "      <td>516</td>\n",
       "      <td>0.4868</td>\n",
       "      <td>2013</td>\n",
       "    </tr>\n",
       "    <tr>\n",
       "      <th>987435</th>\n",
       "      <td>34471</td>\n",
       "      <td>FL</td>\n",
       "      <td>Nurse Practitioner</td>\n",
       "      <td>2379</td>\n",
       "      <td>66</td>\n",
       "      <td>0.0277</td>\n",
       "      <td>2013</td>\n",
       "    </tr>\n",
       "    <tr>\n",
       "      <th>987436</th>\n",
       "      <td>34471</td>\n",
       "      <td>FL</td>\n",
       "      <td>Nurse Practitioner</td>\n",
       "      <td>2941</td>\n",
       "      <td>98</td>\n",
       "      <td>0.0333</td>\n",
       "      <td>2013</td>\n",
       "    </tr>\n",
       "    <tr>\n",
       "      <th>987437</th>\n",
       "      <td>21014</td>\n",
       "      <td>MD</td>\n",
       "      <td>Nurse Practitioner</td>\n",
       "      <td>1790</td>\n",
       "      <td>105</td>\n",
       "      <td>0.0587</td>\n",
       "      <td>2013</td>\n",
       "    </tr>\n",
       "    <tr>\n",
       "      <th>987438</th>\n",
       "      <td>55454</td>\n",
       "      <td>MN</td>\n",
       "      <td>Internal Medicine</td>\n",
       "      <td>537</td>\n",
       "      <td>60</td>\n",
       "      <td>0.1117</td>\n",
       "      <td>2013</td>\n",
       "    </tr>\n",
       "    <tr>\n",
       "      <th>987439</th>\n",
       "      <td>33462</td>\n",
       "      <td>FL</td>\n",
       "      <td>Physician Assistant</td>\n",
       "      <td>1558</td>\n",
       "      <td>13</td>\n",
       "      <td>0.0083</td>\n",
       "      <td>2013</td>\n",
       "    </tr>\n",
       "    <tr>\n",
       "      <th>987440</th>\n",
       "      <td>98223</td>\n",
       "      <td>WA</td>\n",
       "      <td>Family Practice</td>\n",
       "      <td>9768</td>\n",
       "      <td>1157</td>\n",
       "      <td>0.1184</td>\n",
       "      <td>2013</td>\n",
       "    </tr>\n",
       "    <tr>\n",
       "      <th>987441</th>\n",
       "      <td>93103</td>\n",
       "      <td>CA</td>\n",
       "      <td>Internal Medicine</td>\n",
       "      <td>2867</td>\n",
       "      <td>46</td>\n",
       "      <td>0.0160</td>\n",
       "      <td>2013</td>\n",
       "    </tr>\n",
       "    <tr>\n",
       "      <th>987442</th>\n",
       "      <td>1588</td>\n",
       "      <td>MA</td>\n",
       "      <td>Obstetrics/Gynecology</td>\n",
       "      <td>364</td>\n",
       "      <td>30</td>\n",
       "      <td>0.0824</td>\n",
       "      <td>2013</td>\n",
       "    </tr>\n",
       "    <tr>\n",
       "      <th>987443</th>\n",
       "      <td>14220</td>\n",
       "      <td>NY</td>\n",
       "      <td>Certified Clinical Nurse Specialist</td>\n",
       "      <td>343</td>\n",
       "      <td>30</td>\n",
       "      <td>0.0875</td>\n",
       "      <td>2013</td>\n",
       "    </tr>\n",
       "    <tr>\n",
       "      <th>987444</th>\n",
       "      <td>46052</td>\n",
       "      <td>IN</td>\n",
       "      <td>General Surgery</td>\n",
       "      <td>94</td>\n",
       "      <td>45</td>\n",
       "      <td>0.4787</td>\n",
       "      <td>2013</td>\n",
       "    </tr>\n",
       "    <tr>\n",
       "      <th>987445</th>\n",
       "      <td>46202</td>\n",
       "      <td>IN</td>\n",
       "      <td>General Surgery</td>\n",
       "      <td>75</td>\n",
       "      <td>37</td>\n",
       "      <td>0.4933</td>\n",
       "      <td>2013</td>\n",
       "    </tr>\n",
       "    <tr>\n",
       "      <th>987446</th>\n",
       "      <td>94063</td>\n",
       "      <td>CA</td>\n",
       "      <td>Nurse Practitioner</td>\n",
       "      <td>119</td>\n",
       "      <td>91</td>\n",
       "      <td>0.7647</td>\n",
       "      <td>2013</td>\n",
       "    </tr>\n",
       "    <tr>\n",
       "      <th>987447</th>\n",
       "      <td>80907</td>\n",
       "      <td>CO</td>\n",
       "      <td>Rheumatology</td>\n",
       "      <td>2797</td>\n",
       "      <td>649</td>\n",
       "      <td>0.2320</td>\n",
       "      <td>2013</td>\n",
       "    </tr>\n",
       "    <tr>\n",
       "      <th>987448</th>\n",
       "      <td>14472</td>\n",
       "      <td>NY</td>\n",
       "      <td>Family Practice</td>\n",
       "      <td>6675</td>\n",
       "      <td>214</td>\n",
       "      <td>0.0321</td>\n",
       "      <td>2013</td>\n",
       "    </tr>\n",
       "    <tr>\n",
       "      <th>987449</th>\n",
       "      <td>14472</td>\n",
       "      <td>NY</td>\n",
       "      <td>Family Practice</td>\n",
       "      <td>1183</td>\n",
       "      <td>24</td>\n",
       "      <td>0.0203</td>\n",
       "      <td>2013</td>\n",
       "    </tr>\n",
       "    <tr>\n",
       "      <th>987450</th>\n",
       "      <td>68516</td>\n",
       "      <td>NE</td>\n",
       "      <td>Maxillofacial Surgery</td>\n",
       "      <td>109</td>\n",
       "      <td>22</td>\n",
       "      <td>0.2018</td>\n",
       "      <td>2013</td>\n",
       "    </tr>\n",
       "    <tr>\n",
       "      <th>987451</th>\n",
       "      <td>68467</td>\n",
       "      <td>NE</td>\n",
       "      <td>Physician Assistant</td>\n",
       "      <td>4024</td>\n",
       "      <td>170</td>\n",
       "      <td>0.0422</td>\n",
       "      <td>2013</td>\n",
       "    </tr>\n",
       "    <tr>\n",
       "      <th>987452</th>\n",
       "      <td>80211</td>\n",
       "      <td>CO</td>\n",
       "      <td>Podiatry</td>\n",
       "      <td>96</td>\n",
       "      <td>13</td>\n",
       "      <td>0.1354</td>\n",
       "      <td>2013</td>\n",
       "    </tr>\n",
       "    <tr>\n",
       "      <th>987453</th>\n",
       "      <td>97470</td>\n",
       "      <td>OR</td>\n",
       "      <td>Nurse Practitioner</td>\n",
       "      <td>2002</td>\n",
       "      <td>104</td>\n",
       "      <td>0.0519</td>\n",
       "      <td>2013</td>\n",
       "    </tr>\n",
       "    <tr>\n",
       "      <th>987454</th>\n",
       "      <td>48843</td>\n",
       "      <td>MI</td>\n",
       "      <td>Emergency Medicine</td>\n",
       "      <td>425</td>\n",
       "      <td>113</td>\n",
       "      <td>0.2659</td>\n",
       "      <td>2013</td>\n",
       "    </tr>\n",
       "  </tbody>\n",
       "</table>\n",
       "<p>987455 rows × 7 columns</p>\n",
       "</div>"
      ],
      "text/plain": [
       "          ZIP State                                     Prov_Specialty  \\\n",
       "0       48183    MI                                 Emergency Medicine   \n",
       "1       96819    HI                                            Urology   \n",
       "2       49546    MI                                      Ophthalmology   \n",
       "3       95376    CA                                            Dentist   \n",
       "4       62220    IL                                    General Surgery   \n",
       "5       95116    CA               Physical Medicine and Rehabilitation   \n",
       "6       55431    MN                                 Orthopedic Surgery   \n",
       "7       94599    CA                                    Family Practice   \n",
       "8       62901    IL                                 Emergency Medicine   \n",
       "9       53098    WI                              Obstetrics/Gynecology   \n",
       "10      80045    CO                                  Internal Medicine   \n",
       "11      87106    NM                                 Emergency Medicine   \n",
       "12      60187    IL                                    Family Practice   \n",
       "13      85381    AZ                                            Dentist   \n",
       "14      75235    TX                                 Emergency Medicine   \n",
       "15      56304    MN  Student in an Organized Health Care Education/...   \n",
       "16      58103    ND                                 Nurse Practitioner   \n",
       "17      46322    IN                     Interventional Pain Management   \n",
       "18      85022    AZ                                            Dentist   \n",
       "19       4105    ME                                    Family Practice   \n",
       "20      48197    MI                                 Orthopedic Surgery   \n",
       "21      23434    VA                                           Podiatry   \n",
       "22      14222    NY                              Obstetrics/Gynecology   \n",
       "23      75204    TX                                 Emergency Medicine   \n",
       "24      30004    GA                                         Nephrology   \n",
       "25      85364    AZ                                 Nurse Practitioner   \n",
       "26      42431    KY                                    Family Practice   \n",
       "27      57104    SD                                 Orthopedic Surgery   \n",
       "28      64111    MO                                  Internal Medicine   \n",
       "29      53916    WI                                    Family Practice   \n",
       "...       ...   ...                                                ...   \n",
       "987425  63119    MO                                  Internal Medicine   \n",
       "987426  23502    VA                                         Nephrology   \n",
       "987427  55454    MN                                  Internal Medicine   \n",
       "987428  23462    VA                                 Emergency Medicine   \n",
       "987429  65202    MO                                    Family Practice   \n",
       "987430  37167    TN                                          Neurology   \n",
       "987431  60540    IL                                           Podiatry   \n",
       "987432  60126    IL                                     Anesthesiology   \n",
       "987433  77090    TX                                            Urology   \n",
       "987434  10021    NY                                     Anesthesiology   \n",
       "987435  34471    FL                                 Nurse Practitioner   \n",
       "987436  34471    FL                                 Nurse Practitioner   \n",
       "987437  21014    MD                                 Nurse Practitioner   \n",
       "987438  55454    MN                                  Internal Medicine   \n",
       "987439  33462    FL                                Physician Assistant   \n",
       "987440  98223    WA                                    Family Practice   \n",
       "987441  93103    CA                                  Internal Medicine   \n",
       "987442   1588    MA                              Obstetrics/Gynecology   \n",
       "987443  14220    NY                Certified Clinical Nurse Specialist   \n",
       "987444  46052    IN                                    General Surgery   \n",
       "987445  46202    IN                                    General Surgery   \n",
       "987446  94063    CA                                 Nurse Practitioner   \n",
       "987447  80907    CO                                       Rheumatology   \n",
       "987448  14472    NY                                    Family Practice   \n",
       "987449  14472    NY                                    Family Practice   \n",
       "987450  68516    NE                              Maxillofacial Surgery   \n",
       "987451  68467    NE                                Physician Assistant   \n",
       "987452  80211    CO                                           Podiatry   \n",
       "987453  97470    OR                                 Nurse Practitioner   \n",
       "987454  48843    MI                                 Emergency Medicine   \n",
       "\n",
       "        Total_Claims  Opioid_Claims  Pres_Rate  Year  \n",
       "0                124             33     0.2661  2014  \n",
       "1                936             32     0.0342  2014  \n",
       "2                590             11     0.0186  2014  \n",
       "3                 46             11     0.2391  2014  \n",
       "4                 85             45     0.5294  2014  \n",
       "5                472             46     0.0975  2014  \n",
       "6                142            116     0.8169  2014  \n",
       "7               2321            104     0.0448  2014  \n",
       "8                199             61     0.3065  2014  \n",
       "9                152             12     0.0789  2014  \n",
       "10               394             32     0.0812  2014  \n",
       "11               163             40     0.2454  2014  \n",
       "12              1965             24     0.0122  2014  \n",
       "13                59             26     0.4407  2014  \n",
       "14                88             20     0.2273  2014  \n",
       "15               185             19     0.1027  2014  \n",
       "16              2550            123     0.0482  2014  \n",
       "17                38             21     0.5526  2014  \n",
       "18               224             47     0.2098  2014  \n",
       "19               945             45     0.0476  2014  \n",
       "20                41             23     0.5610  2014  \n",
       "21               202             16     0.0792  2014  \n",
       "22                43             12     0.2791  2014  \n",
       "23               254             45     0.1772  2014  \n",
       "24              3182             21     0.0066  2014  \n",
       "25               194             24     0.1237  2014  \n",
       "26              4942             55     0.0111  2014  \n",
       "27               416            129     0.3101  2014  \n",
       "28              3531            205     0.0581  2014  \n",
       "29              1242             81     0.0652  2014  \n",
       "...              ...            ...        ...   ...  \n",
       "987425          8395            296     0.0353  2013  \n",
       "987426          3481             27     0.0078  2013  \n",
       "987427           840             17     0.0202  2013  \n",
       "987428            57             17     0.2982  2013  \n",
       "987429           196             38     0.1939  2013  \n",
       "987430           196             17     0.0867  2013  \n",
       "987431           215             30     0.1395  2013  \n",
       "987432           248            166     0.6694  2013  \n",
       "987433          3165             61     0.0193  2013  \n",
       "987434          1060            516     0.4868  2013  \n",
       "987435          2379             66     0.0277  2013  \n",
       "987436          2941             98     0.0333  2013  \n",
       "987437          1790            105     0.0587  2013  \n",
       "987438           537             60     0.1117  2013  \n",
       "987439          1558             13     0.0083  2013  \n",
       "987440          9768           1157     0.1184  2013  \n",
       "987441          2867             46     0.0160  2013  \n",
       "987442           364             30     0.0824  2013  \n",
       "987443           343             30     0.0875  2013  \n",
       "987444            94             45     0.4787  2013  \n",
       "987445            75             37     0.4933  2013  \n",
       "987446           119             91     0.7647  2013  \n",
       "987447          2797            649     0.2320  2013  \n",
       "987448          6675            214     0.0321  2013  \n",
       "987449          1183             24     0.0203  2013  \n",
       "987450           109             22     0.2018  2013  \n",
       "987451          4024            170     0.0422  2013  \n",
       "987452            96             13     0.1354  2013  \n",
       "987453          2002            104     0.0519  2013  \n",
       "987454           425            113     0.2659  2013  \n",
       "\n",
       "[987455 rows x 7 columns]"
      ]
     },
     "execution_count": 3,
     "metadata": {},
     "output_type": "execute_result"
    }
   ],
   "source": [
    "Data"
   ]
  },
  {
   "cell_type": "markdown",
   "metadata": {},
   "source": [
    "### Using the build in pandas describe function allows us to have a statistical summary of the data frame. The variable of interest is the Opiod_Claims which we breakdown further in the next input."
   ]
  },
  {
   "cell_type": "code",
   "execution_count": 4,
   "metadata": {},
   "outputs": [
    {
     "data": {
      "text/html": [
       "<div>\n",
       "<table border=\"1\" class=\"dataframe\">\n",
       "  <thead>\n",
       "    <tr style=\"text-align: right;\">\n",
       "      <th></th>\n",
       "      <th>Total_Claims</th>\n",
       "      <th>Opioid_Claims</th>\n",
       "      <th>Pres_Rate</th>\n",
       "    </tr>\n",
       "  </thead>\n",
       "  <tbody>\n",
       "    <tr>\n",
       "      <th>count</th>\n",
       "      <td>987455.000000</td>\n",
       "      <td>987455.000000</td>\n",
       "      <td>987455.000000</td>\n",
       "    </tr>\n",
       "    <tr>\n",
       "      <th>mean</th>\n",
       "      <td>2318.816544</td>\n",
       "      <td>159.525533</td>\n",
       "      <td>0.183278</td>\n",
       "    </tr>\n",
       "    <tr>\n",
       "      <th>std</th>\n",
       "      <td>4225.469253</td>\n",
       "      <td>363.751760</td>\n",
       "      <td>0.192039</td>\n",
       "    </tr>\n",
       "    <tr>\n",
       "      <th>min</th>\n",
       "      <td>11.000000</td>\n",
       "      <td>11.000000</td>\n",
       "      <td>0.000400</td>\n",
       "    </tr>\n",
       "    <tr>\n",
       "      <th>25%</th>\n",
       "      <td>163.000000</td>\n",
       "      <td>23.000000</td>\n",
       "      <td>0.041200</td>\n",
       "    </tr>\n",
       "    <tr>\n",
       "      <th>50%</th>\n",
       "      <td>554.000000</td>\n",
       "      <td>52.000000</td>\n",
       "      <td>0.094000</td>\n",
       "    </tr>\n",
       "    <tr>\n",
       "      <th>75%</th>\n",
       "      <td>2672.000000</td>\n",
       "      <td>146.000000</td>\n",
       "      <td>0.280900</td>\n",
       "    </tr>\n",
       "    <tr>\n",
       "      <th>max</th>\n",
       "      <td>226081.000000</td>\n",
       "      <td>26449.000000</td>\n",
       "      <td>1.000000</td>\n",
       "    </tr>\n",
       "  </tbody>\n",
       "</table>\n",
       "</div>"
      ],
      "text/plain": [
       "        Total_Claims  Opioid_Claims      Pres_Rate\n",
       "count  987455.000000  987455.000000  987455.000000\n",
       "mean     2318.816544     159.525533       0.183278\n",
       "std      4225.469253     363.751760       0.192039\n",
       "min        11.000000      11.000000       0.000400\n",
       "25%       163.000000      23.000000       0.041200\n",
       "50%       554.000000      52.000000       0.094000\n",
       "75%      2672.000000     146.000000       0.280900\n",
       "max    226081.000000   26449.000000       1.000000"
      ]
     },
     "execution_count": 4,
     "metadata": {},
     "output_type": "execute_result"
    }
   ],
   "source": [
    "Data.describe()"
   ]
  },
  {
   "cell_type": "markdown",
   "metadata": {},
   "source": [
    "### Describing the data by year highlights the similarities in the data and how most of the data around the third quartile (75%) is 145 to 146 opioid claims."
   ]
  },
  {
   "cell_type": "code",
   "execution_count": 5,
   "metadata": {},
   "outputs": [
    {
     "data": {
      "text/plain": [
       "Year       \n",
       "2013  count    490201.000000\n",
       "      mean        159.045373\n",
       "      std         356.903378\n",
       "      min          11.000000\n",
       "      25%          23.000000\n",
       "      50%          52.000000\n",
       "      75%         146.000000\n",
       "      max       21551.000000\n",
       "2014  count    497254.000000\n",
       "      mean        159.998882\n",
       "      std         370.378828\n",
       "      min          11.000000\n",
       "      25%          23.000000\n",
       "      50%          52.000000\n",
       "      75%         145.000000\n",
       "      max       26449.000000\n",
       "Name: Opioid_Claims, dtype: float64"
      ]
     },
     "execution_count": 5,
     "metadata": {},
     "output_type": "execute_result"
    }
   ],
   "source": [
    "Data['Opioid_Claims'].groupby(Data['Year']).describe()"
   ]
  },
  {
   "cell_type": "markdown",
   "metadata": {},
   "source": [
    "### The Histogram for the 2013 and 2014 highlight the similarities in the data distribution and the right skew for both datasets."
   ]
  },
  {
   "cell_type": "code",
   "execution_count": 6,
   "metadata": {},
   "outputs": [
    {
     "data": {
      "text/plain": [
       "array([<matplotlib.axes._subplots.AxesSubplot object at 0x0000000023A4F978>,\n",
       "       <matplotlib.axes._subplots.AxesSubplot object at 0x000000002BC03240>], dtype=object)"
      ]
     },
     "execution_count": 6,
     "metadata": {},
     "output_type": "execute_result"
    },
    {
     "data": {
      "image/png": "[encoded data removed]",
      "text/plain": [
       "<matplotlib.figure.Figure at 0x5958978>"
      ]
     },
     "metadata": {},
     "output_type": "display_data"
    }
   ],
   "source": [
    "Data.hist(column= 'Opioid_Claims',by = Data['Year'],bins=50,edgecolor='black',range= (0,2500))"
   ]
  },
  {
   "cell_type": "markdown",
   "metadata": {},
   "source": [
    "### A Boxplot of opioid claims identify the previous distribution of the data."
   ]
  },
  {
   "cell_type": "code",
   "execution_count": 7,
   "metadata": {},
   "outputs": [
    {
     "data": {
      "text/plain": [
       "<matplotlib.axes._subplots.AxesSubplot at 0x2b917128>"
      ]
     },
     "execution_count": 7,
     "metadata": {},
     "output_type": "execute_result"
    },
    {
     "data": {
      "image/png": "[encoded data removed]",
      "text/plain": [
       "<matplotlib.figure.Figure at 0x2bf50080>"
      ]
     },
     "metadata": {},
     "output_type": "display_data"
    }
   ],
   "source": [
    "Data.boxplot(column= ['Opioid_Claims'], by = ['Year'])"
   ]
  },
  {
   "cell_type": "code",
   "execution_count": 8,
   "metadata": {
    "collapsed": true
   },
   "outputs": [],
   "source": [
    "FYear = Data[Data['Year']=='2013']\n",
    "LYear = Data[Data['Year']=='2014']\n",
    "Opiod_C2013 = FYear.groupby('State')['Opioid_Claims'].sum().sort_values(ascending=False)\n",
    "Opiod_C2014 = LYear.groupby('State')['Opioid_Claims'].sum().sort_values(ascending=False)"
   ]
  },
  {
   "cell_type": "markdown",
   "metadata": {},
   "source": [
    "### The below plot shows the distribution for opioid prescriptions for the year 2013. The chart identified California as the top opioid prescriber."
   ]
  },
  {
   "cell_type": "code",
   "execution_count": 9,
   "metadata": {},
   "outputs": [
    {
     "data": {
      "text/plain": [
       "<matplotlib.axes._subplots.AxesSubplot at 0x2bea5470>"
      ]
     },
     "execution_count": 9,
     "metadata": {},
     "output_type": "execute_result"
    },
    {
     "data": {
      "image/png": "[encoded data removed]",
      "text/plain": [
       "<matplotlib.figure.Figure at 0x2bf5ba20>"
      ]
     },
     "metadata": {},
     "output_type": "display_data"
    }
   ],
   "source": [
    "Opiod_C2013.plot(kind=\"bar\",title = \"Opioid Claims By State 2013\")"
   ]
  },
  {
   "cell_type": "markdown",
   "metadata": {},
   "source": [
    "### The below plot shows the distribution for opioid prescriptions for the year 2014. The chart again identified California as the top opioid prescriber."
   ]
  },
  {
   "cell_type": "code",
   "execution_count": 10,
   "metadata": {},
   "outputs": [
    {
     "data": {
      "text/plain": [
       "<matplotlib.axes._subplots.AxesSubplot at 0x2c6a08d0>"
      ]
     },
     "execution_count": 10,
     "metadata": {},
     "output_type": "execute_result"
    },
    {
     "data": {
      "image/png": "[encoded data removed]",
      "text/plain": [
       "<matplotlib.figure.Figure at 0x3480d4a8>"
      ]
     },
     "metadata": {},
     "output_type": "display_data"
    }
   ],
   "source": [
    "Opiod_C2014.plot(kind=\"bar\",title = \"Opioid Claims By State 2014\")"
   ]
  },
  {
   "cell_type": "code",
   "execution_count": 11,
   "metadata": {
    "collapsed": true
   },
   "outputs": [],
   "source": [
    "YealyComp = Data.groupby('Year')['Opioid_Claims'].sum().sort_values(ascending=False)"
   ]
  },
  {
   "cell_type": "markdown",
   "metadata": {},
   "source": [
    "### Total Opioid claims for 2014 79,560,084 and 2013 77,964,201. The year 2014 represented a total increase of 2% from the previous year."
   ]
  },
  {
   "cell_type": "code",
   "execution_count": 12,
   "metadata": {},
   "outputs": [
    {
     "data": {
      "text/plain": [
       "Year\n",
       "2014    79560084\n",
       "2013    77964201\n",
       "Name: Opioid_Claims, dtype: int64"
      ]
     },
     "execution_count": 12,
     "metadata": {},
     "output_type": "execute_result"
    },
    {
     "data": {
      "image/png": "[encoded data removed]",
      "text/plain": [
       "<matplotlib.figure.Figure at 0x34cb8e48>"
      ]
     },
     "metadata": {},
     "output_type": "display_data"
    }
   ],
   "source": [
    "YealyComp.plot(kind=\"bar\",color=sns.color_palette(),title = \"Opioid Claims By Year\\n Tens Millions\",rot = 0)\n",
    "YealyComp"
   ]
  },
  {
   "cell_type": "code",
   "execution_count": 13,
   "metadata": {},
   "outputs": [
    {
     "data": {
      "text/plain": [
       "Year\n",
       "2013         NaN\n",
       "2014    0.020469\n",
       "Name: Opioid_Claims, dtype: float64"
      ]
     },
     "execution_count": 13,
     "metadata": {},
     "output_type": "execute_result"
    }
   ],
   "source": [
    "Data.groupby('Year')['Opioid_Claims'].sum().sort_values(ascending=True).pct_change()\n"
   ]
  },
  {
   "cell_type": "code",
   "execution_count": 14,
   "metadata": {
    "collapsed": true
   },
   "outputs": [],
   "source": [
    "ChangeState = Data[['State','Year','Opioid_Claims']]\n",
    "CHG_BY_STATE = ChangeState['Opioid_Claims'].groupby([ChangeState['State'], ChangeState['Year']]).sum().unstack()\n",
    "CHG_BY_STATE['Prev_Y_CHG'] = ((CHG_BY_STATE['2014'] - CHG_BY_STATE['2013'])/CHG_BY_STATE['2013'])\n",
    "CHG_BY_STATEF = CHG_BY_STATE['Prev_Y_CHG']"
   ]
  },
  {
   "cell_type": "markdown",
   "metadata": {},
   "source": [
    "### Let’s identify what states had the biggest opioid increases from 2013. Maryland had the biggest increases by 10 %.  Rhode Island had the biggest decrease by 4%."
   ]
  },
  {
   "cell_type": "code",
   "execution_count": 15,
   "metadata": {
    "scrolled": false
   },
   "outputs": [
    {
     "data": {
      "text/plain": [
       "<matplotlib.axes._subplots.AxesSubplot at 0x34dcc710>"
      ]
     },
     "execution_count": 15,
     "metadata": {},
     "output_type": "execute_result"
    },
    {
     "data": {
      "image/png": "[encoded data removed]",
      "text/plain": [
       "<matplotlib.figure.Figure at 0x350c4860>"
      ]
     },
     "metadata": {},
     "output_type": "display_data"
    }
   ],
   "source": [
    "CHG_BY_STATEF.sort_values(ascending=False).plot(kind=\"bar\",title = \"Percentage CHG Opioid Claims from 2013\\n Negative incdicates a decrease\")"
   ]
  },
  {
   "cell_type": "markdown",
   "metadata": {},
   "source": [
    "### Slicing the data by specialty identify institutions account for the top increases in opioid prescriptions."
   ]
  },
  {
   "cell_type": "code",
   "execution_count": 16,
   "metadata": {},
   "outputs": [
    {
     "data": {
      "text/plain": [
       "<matplotlib.axes._subplots.AxesSubplot at 0x34e7a4e0>"
      ]
     },
     "execution_count": 16,
     "metadata": {},
     "output_type": "execute_result"
    },
    {
     "data": {
      "image/png": "[encoded data removed]",
      "text/plain": [
       "<matplotlib.figure.Figure at 0x351b2400>"
      ]
     },
     "metadata": {},
     "output_type": "display_data"
    }
   ],
   "source": [
    "SpecData = Data[['Prov_Specialty','Year','Opioid_Claims']]\n",
    "CHG_Spec = SpecData['Opioid_Claims'].groupby([SpecData['Prov_Specialty'], SpecData['Year']]).sum().unstack()\n",
    "CHG_Spec['Prev_Y_CHG_ZIP'] = ((CHG_Spec['2014'] - CHG_Spec['2013'])/CHG_Spec['2013'])\n",
    "CHG_SpecF = CHG_Spec['Prev_Y_CHG_ZIP']\n",
    "CHG_SpecF.sort_values(ascending=False).nlargest(25).plot(kind=\"bar\",color=sns.color_palette(),title = \"Top 25 Opioid Prescriptions CHG By Specialty\\n From 2013\")"
   ]
  },
  {
   "cell_type": "markdown",
   "metadata": {},
   "source": [
    "### Below I Identify 25 specialties with the highest decrease of opioid claims from 2013. Occupational therapist had the highest decrease by 9%."
   ]
  },
  {
   "cell_type": "code",
   "execution_count": 17,
   "metadata": {},
   "outputs": [
    {
     "data": {
      "text/plain": [
       "<matplotlib.axes._subplots.AxesSubplot at 0x35478f28>"
      ]
     },
     "execution_count": 17,
     "metadata": {},
     "output_type": "execute_result"
    },
    {
     "data": {
      "image/png": "[encoded data removed]",
      "text/plain": [
       "<matplotlib.figure.Figure at 0x354278d0>"
      ]
     },
     "metadata": {},
     "output_type": "display_data"
    }
   ],
   "source": [
    "CHG_SpecF.sort_values(ascending=False).nsmallest(25).plot(kind=\"bar\",color=sns.color_palette(),title = \"Lowest 25 Opioid Prescriptions CHG By Specialty\\n From 2013\")"
   ]
  },
  {
   "cell_type": "markdown",
   "metadata": {
    "collapsed": true
   },
   "source": [
    "# Conclusion\n",
    "\n",
    "###  It was interesting to find that institutions account for mayor increases and decreases. For example, the previous chart identified Ambulatory Surgical Center and acute hospitals as having a decrease in prescriptions. Considering last year there was an increase of 2%, we cannot consider the opioid epidemic over. The 2% accounts for 1,595,883 additional prescriptions for the year 2014, and from those prescriptions many have the potential to become addicted. I wanted to display a map perspective of this dataset but was unable due to my python version incompatibility to mapplot. \n",
    "\n",
    "# References\n",
    "### stackoverflow.com\n",
    "### pandas.pydata.org"
   ]
  }
 ],
 "metadata": {
  "kernelspec": {
   "display_name": "Python 2",
   "language": "python",
   "name": "python2"
  },
  "language_info": {
   "codemirror_mode": {
    "name": "ipython",
    "version": 2
   },
   "file_extension": ".py",
   "mimetype": "text/x-python",
   "name": "python",
   "nbconvert_exporter": "python",
   "pygments_lexer": "ipython2",
   "version": "2.7.11"
  }
 },
 "nbformat": 4,
 "nbformat_minor": 2
}
