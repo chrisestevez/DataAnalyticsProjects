{
 "cells": [
  {
   "cell_type": "markdown",
   "metadata": {},
   "source": [
    "# Monte Carlo simulation with parallel and timeit"
   ]
  },
  {
   "cell_type": "markdown",
   "metadata": {},
   "source": [
    "I start by importing necessary libraries."
   ]
  },
  {
   "cell_type": "code",
   "execution_count": 1,
   "metadata": {
    "collapsed": true
   },
   "outputs": [],
   "source": [
    "%matplotlib inline\n",
    "import pandas as pd\n",
    "import numpy as np\n",
    "import matplotlib.pyplot as plt\n",
    "import os\n",
    "import sys"
   ]
  },
  {
   "cell_type": "markdown",
   "metadata": {},
   "source": [
    "Load and format data"
   ]
  },
  {
   "cell_type": "code",
   "execution_count": 2,
   "metadata": {
    "collapsed": true
   },
   "outputs": [],
   "source": [
    "file_path = \"apple.2011.csv\"\n",
    "df = pd.read_csv(file_path, sep=',',na_values='XXXXX', names = ['Date', 'Last', 'Change'], skiprows=1)\n",
    "df = df.fillna(0)\n",
    "df['Date'] = pd.to_datetime(df['Date'])\n",
    "df['Change'] = pd.to_numeric(df['Change'], errors='coerce')"
   ]
  },
  {
   "cell_type": "markdown",
   "metadata": {},
   "source": [
    "I run the simulation for 20 days to return the expected price based on Gaussian random numbers."
   ]
  },
  {
   "cell_type": "code",
   "execution_count": 3,
   "metadata": {
    "collapsed": true
   },
   "outputs": [],
   "source": [
    "mu = np.mean(df['Change'])\n",
    "sigma = np.std(df['Change'])\n",
    "days = 20\n",
    "\n",
    "def distribution(mu, sigma,days):\n",
    "    values = np.random.normal(mu, sigma, days)\n",
    "    price = df.iloc[-1]['Last']\n",
    "    for val in values:\n",
    "        price += price*val\n",
    "    return price\n"
   ]
  },
  {
   "cell_type": "markdown",
   "metadata": {},
   "source": [
    "\n"
   ]
  },
  {
   "cell_type": "markdown",
   "metadata": {},
   "source": [
    "\n"
   ]
  },
  {
   "cell_type": "markdown",
   "metadata": {},
   "source": [
    "Run and plot the Monte Carlo simulation 10,000 times"
   ]
  },
  {
   "cell_type": "code",
   "execution_count": 4,
   "metadata": {},
   "outputs": [
    {
     "data": {
      "text/plain": [
       "<matplotlib.text.Text at 0xc85e898>"
      ]
     },
     "execution_count": 4,
     "metadata": {},
     "output_type": "execute_result"
    },
    {
     "data": {
      "image/png": "[encoded data removed]",
      "text/plain": [
       "<matplotlib.figure.Figure at 0xbd04278>"
      ]
     },
     "metadata": {},
     "output_type": "display_data"
    }
   ],
   "source": [
    "Val = []\n",
    "for i in range(0,10000):\n",
    "    value = distribution(mu, sigma,days)\n",
    "    Val.append(value)\n",
    "\n",
    "per = np.percentile(Val, 1)\n",
    "plt.axvline(per, color='r', linestyle='solid', linewidth=1)\n",
    "count, bins, re = plt.hist(Val, 25,edgecolor='black')\n",
    "plt.title('Simulated apple stock at 20 days')\n",
    "plt.xlabel('Expected Stock Value')\n",
    "plt.ylabel('Frequency')"
   ]
  },
  {
   "cell_type": "markdown",
   "metadata": {},
   "source": [
    "VaR with 99% confidence"
   ]
  },
  {
   "cell_type": "markdown",
   "metadata": {},
   "source": [
    "### I decided to combine the process of montecarlo simulation into one function"
   ]
  },
  {
   "cell_type": "code",
   "execution_count": 5,
   "metadata": {
    "collapsed": true
   },
   "outputs": [],
   "source": [
    "\n",
    "days = 20\n",
    "iterations = 10000\n",
    "price = df.iloc[-1]['Last']\n",
    "def MonteSim(iterations,mu, sigma, days,price):\n",
    "    Val = []\n",
    "    values = np.random.normal(mu, sigma, days)\n",
    "    #price = df.iloc[-1]['Last']\n",
    "    for val in values:\n",
    "        price += price*val     \n",
    "        for i in range(0,iterations):\n",
    "            #value = price\n",
    "        #distribution(mu, sigma,days)\n",
    "            Val.append(price)\n",
    "    \n",
    "\n",
    "    var_99 = np.percentile(Val, 1)\n",
    "\n",
    "    return format(var_99,'.3f') \n"
   ]
  },
  {
   "cell_type": "code",
   "execution_count": 6,
   "metadata": {},
   "outputs": [
    {
     "name": "stdout",
     "output_type": "stream",
     "text": [
      "394.432\n"
     ]
    }
   ],
   "source": [
    "print MonteSim(iterations,mu, sigma, days,price)"
   ]
  },
  {
   "cell_type": "code",
   "execution_count": 7,
   "metadata": {},
   "outputs": [
    {
     "name": "stdout",
     "output_type": "stream",
     "text": [
      "10 loops, best of 3: 28.8 ms per loop\n"
     ]
    }
   ],
   "source": [
    "%timeit MonteSim(iterations,mu, sigma, days,price)"
   ]
  },
  {
   "cell_type": "code",
   "execution_count": 8,
   "metadata": {},
   "outputs": [
    {
     "data": {
      "text/plain": [
       "['Hello World', 'Hello World', 'Hello World', 'Hello World']"
      ]
     },
     "execution_count": 8,
     "metadata": {},
     "output_type": "execute_result"
    }
   ],
   "source": [
    "#https://ipython.org/ipython-doc/2/parallel/parallel_demos.html#parallel-examples\n",
    "\n",
    "#from IPython import parallel\n",
    "#clients = parallel.Client()\n",
    "#clients.block = True\n",
    "#print clients.ids\n",
    "#display engines after initialization\n",
    "#dview = clients.direct_view()\n",
    "from ipyparallel import Client\n",
    "c = Client()\n",
    "c.ids\n",
    "\n",
    "set([0,1,2,3])\n",
    "\n",
    "\n",
    "c[:].apply_sync(lambda: \"Hello World\")"
   ]
  },
  {
   "cell_type": "code",
   "execution_count": 14,
   "metadata": {},
   "outputs": [
    {
     "name": "stdout",
     "output_type": "stream",
     "text": [
      "10 loops, best of 3: 28.2 ms per loop\n"
     ]
    }
   ],
   "source": [
    "\n",
    "\n",
    "#import pandas as pd\n",
    "#import numpy as np\n",
    "#import matplotlib.pyplot as plt\n",
    "#import os\n",
    "#import sys\n",
    "\n",
    "\n",
    "file_path = \"apple.2011.csv\"\n",
    "df = pd.read_csv(file_path, sep=',',na_values='XXXXX', names = ['Date', 'Last', 'Change'], skiprows=1)\n",
    "df = df.fillna(0)\n",
    "df['Date'] = pd.to_datetime(df['Date'])\n",
    "df['Change'] = pd.to_numeric(df['Change'], errors='coerce')\n",
    "mu = np.mean(df['Change'])\n",
    "sigma = np.std(df['Change'])\n",
    "days = 20\n",
    "iterations = 10000\n",
    "price = int(df['Last'].tail(1))\n",
    "\n",
    "def MonteSim(iterations,mu, sigma, days,price):\n",
    "       \n",
    "    Val = []\n",
    "    values = np.random.normal(mu, sigma, days)\n",
    "    #price = df.iloc[-1]['Last']\n",
    "    for val in values:\n",
    "        price += price*val     \n",
    "        for i in range(0,iterations):\n",
    "            #---------value = price\n",
    "        #--------distribution(mu, sigma,days)\n",
    "            Val.append(price)\n",
    "    \n",
    "\n",
    "    var_99 = np.percentile(Val, 1)\n",
    "\n",
    "    return format(var_99,'.3f') \n",
    "\n",
    "\n",
    "\n",
    "\n",
    "\n",
    "#x = dview.gather('iterations')\n",
    "#print x\n",
    "%timeit MonteSim(iterations,mu, sigma, days,price)"
   ]
  },
  {
   "cell_type": "code",
   "execution_count": 22,
   "metadata": {},
   "outputs": [
    {
     "name": "stdout",
     "output_type": "stream",
     "text": [
      "10 loops, best of 3: 40.9 ms per loop\n",
      "['398.847', '370.034', '397.432', '378.008']\n"
     ]
    }
   ],
   "source": [
    "\n",
    "\n",
    "\n",
    "%timeit result_arrays = c[:].apply_sync(MonteSim, iterations,mu, sigma, days,price)\n",
    "print result_arrays\n"
   ]
  },
  {
   "cell_type": "code",
   "execution_count": null,
   "metadata": {
    "collapsed": true
   },
   "outputs": [],
   "source": []
  }
 ],
 "metadata": {
  "kernelspec": {
   "display_name": "Python 2",
   "language": "python",
   "name": "python2"
  },
  "language_info": {
   "codemirror_mode": {
    "name": "ipython",
    "version": 2
   },
   "file_extension": ".py",
   "mimetype": "text/x-python",
   "name": "python",
   "nbconvert_exporter": "python",
   "pygments_lexer": "ipython2",
   "version": "2.7.11"
  }
 },
 "nbformat": 4,
 "nbformat_minor": 1
}
