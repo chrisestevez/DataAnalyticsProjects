{
 "cells": [
  {
   "cell_type": "markdown",
   "metadata": {},
   "source": [
    "# Monte Carlo simulation"
   ]
  },
  {
   "cell_type": "markdown",
   "metadata": {},
   "source": [
    "Perform a Monte Carlo simulation to calculate Value at Risk (VaR) for the Apple stock price using the file attached to this lesson. There exist a number of ways to do this type of analysis, but you can follow this basic procedure (refer to this PDF mc.pdf for a more rigorous mathematical overview):\n",
    "\n",
    "The file (apple.2011.csv) has 3 columns: date, price, and percent change. The information you are really interested in is the percent change. This value is the percent change in the price from the previous date to the date on the corresponding row. \n",
    "\n",
    "Use the percent change values to create a Gaussian random number generator. This generator will create Gaussian-distributed randoms to use as hypothetical percent changes on the day to day price of Apple stock. \n",
    "\n",
    "With that generator, create 20 random numbers. With these randoms, you can find a potential price change over 20 days. \n",
    "\n",
    "Start with the price from the last row and the random numbers to determine a hypothetical price after 20 days. To do this, take that last price, apply a percent change and get a new price. Then take that new price, and apply the next percent change. Do this for the 20 randoms, and get a final price. \n",
    "\n",
    "Store the final price after 20 days (you can discard the intermediate price values).\n",
    "\n",
    "Repeat steps 3-5 a very large number of times. Something like 10000. Each run will yield a different result. \n",
    "\n",
    "Take all of the stored prices (10000 or so), sort them, and find the 1% lowest percentile. This value is the final result, and represents the VaR with 99% confidence. This means that the price will be above this result after 20 days with a confidence level of 99%. The other requirement for this assignment is to use an IPython Notebook. Include in the notebook all the code, the results, and any other information you feel is needed (charts, graphs, plots, etc). Rather than submitting .py files, give me the .ipynb file for your notebook."
   ]
  },
  {
   "cell_type": "markdown",
   "metadata": {},
   "source": [
    "I start by importing necessary libraries."
   ]
  },
  {
   "cell_type": "code",
   "execution_count": null,
   "metadata": {
    "collapsed": true
   },
   "outputs": [],
   "source": [
    "%matplotlib inline\n",
    "import pandas as pd\n",
    "import numpy as np\n",
    "import matplotlib.pyplot as plt"
   ]
  },
  {
   "cell_type": "markdown",
   "metadata": {},
   "source": [
    "Load and format data"
   ]
  },
  {
   "cell_type": "code",
   "execution_count": 2,
   "metadata": {
    "collapsed": true
   },
   "outputs": [],
   "source": [
    "file_path = \"apple.2011.csv\"\n",
    "df = pd.read_csv(file_path, sep=',',na_values='XXXXX', names = ['Date', 'Last', 'Change'], skiprows=1)\n",
    "df = df.fillna(0)\n",
    "df['Date'] = pd.to_datetime(df['Date'])\n",
    "df['Change'] = pd.to_numeric(df['Change'], errors='coerce')"
   ]
  },
  {
   "cell_type": "markdown",
   "metadata": {},
   "source": [
    "I run the simulation for 20 days to return the expected price based on Gaussian random numbers."
   ]
  },
  {
   "cell_type": "code",
   "execution_count": 3,
   "metadata": {
    "collapsed": true
   },
   "outputs": [],
   "source": [
    "mu = np.mean(df['Change'])\n",
    "sigma = np.std(df['Change'])\n",
    "days = 20\n",
    "\n",
    "def distribution(mu, sigma,days):\n",
    "    values = np.random.normal(mu, sigma, days)\n",
    "    price = df.iloc[-1]['Last']\n",
    "    for val in values:\n",
    "        price += price*val\n",
    "    return price"
   ]
  },
  {
   "cell_type": "markdown",
   "metadata": {},
   "source": [
    "Run and plot the Monte Carlo simulation 10,000 times"
   ]
  },
  {
   "cell_type": "code",
   "execution_count": 4,
   "metadata": {},
   "outputs": [
    {
     "data": {
      "text/plain": [
       "<matplotlib.text.Text at 0xcbe9748>"
      ]
     },
     "execution_count": 4,
     "metadata": {},
     "output_type": "execute_result"
    },
    {
     "data": {
      "image/png": "[encoded data removed]",
      "text/plain": [
       "<matplotlib.figure.Figure at 0xcac6eb8>"
      ]
     },
     "metadata": {},
     "output_type": "display_data"
    }
   ],
   "source": [
    "Val = []\n",
    "for i in range(0,10000):\n",
    "    value = distribution(mu, sigma,days)\n",
    "    Val.append(value)\n",
    "\n",
    "per = np.percentile(Val, 1)\n",
    "plt.axvline(per, color='r', linestyle='solid', linewidth=1)\n",
    "count, bins, re = plt.hist(Val, 25,edgecolor='black')\n",
    "plt.title('Simulated apple stock at 20 days')\n",
    "plt.xlabel('Expected Stock Value')\n",
    "plt.ylabel('Frequency')"
   ]
  },
  {
   "cell_type": "markdown",
   "metadata": {},
   "source": [
    "VaR with 99% confidence"
   ]
  },
  {
   "cell_type": "code",
   "execution_count": 5,
   "metadata": {},
   "outputs": [
    {
     "name": "stdout",
     "output_type": "stream",
     "text": [
      "346.253524383\n"
     ]
    }
   ],
   "source": [
    "print per"
   ]
  }
 ],
 "metadata": {
  "kernelspec": {
   "display_name": "Python 2",
   "language": "python",
   "name": "python2"
  },
  "language_info": {
   "codemirror_mode": {
    "name": "ipython",
    "version": 2
   },
   "file_extension": ".py",
   "mimetype": "text/x-python",
   "name": "python",
   "nbconvert_exporter": "python",
   "pygments_lexer": "ipython2",
   "version": "2.7.11"
  }
 },
 "nbformat": 4,
 "nbformat_minor": 1
}
